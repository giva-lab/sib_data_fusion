{
 "cells": [
  {
   "cell_type": "code",
   "execution_count": 3,
   "id": "ce59944d",
   "metadata": {},
   "outputs": [],
   "source": [
    "import pandas as pd\n",
    "input_features = pd.read_csv(\"data/data_subset.csv\")\n",
    "df = pd.DataFrame()\n",
    "df['lat'] = input_features['lat']#[ch.city_vert_list[i][0] for i in tabela_esquinas_bbox]\n",
    "df['lon'] = input_features['long']#[ch.city_vert_list[i][1] for i in tabela_esquinas_bbox]\n",
    "# NEW RESULTS\n",
    "X_1 = pd.read_csv(\"data/tsne_output_static.csv\")#Static\n",
    "X_2 = pd.read_csv(\"data/tsne_output_dynamic.csv\")#Dynamic\n",
    "X_3 = pd.read_csv(\"data/tsne_output_V2.csv\")\n",
    "X_4 = pd.read_csv(\"data/tsne_output_V3.csv\")\n",
    "X_5 = pd.read_csv(\"data/tsne_output_V4.csv\")\n",
    "\n",
    "df['u1'] = X_1['0']\n",
    "df['v1'] = X_1['1']\n",
    "\n",
    "df['u2'] = X_2['0']\n",
    "df['v2'] = X_2['1']\n",
    "\n",
    "df['u3'] = X_3['0']\n",
    "df['v3'] = X_3['1']\n",
    "\n",
    "df['u4'] = X_4['0']\n",
    "df['v4'] = X_4['1']\n",
    "\n",
    "df['u5'] = X_5['0']\n",
    "df['v5'] = X_5['1']\n",
    "\n",
    "df.to_csv(\"data2/tsne2.csv\", index=False)"
   ]
  },
  {
   "cell_type": "code",
   "execution_count": null,
   "id": "e410d029",
   "metadata": {},
   "outputs": [],
   "source": []
  }
 ],
 "metadata": {
  "kernelspec": {
   "display_name": "Python 3",
   "language": "python",
   "name": "python3"
  },
  "language_info": {
   "codemirror_mode": {
    "name": "ipython",
    "version": 3
   },
   "file_extension": ".py",
   "mimetype": "text/x-python",
   "name": "python",
   "nbconvert_exporter": "python",
   "pygments_lexer": "ipython3",
   "version": "3.8.8"
  }
 },
 "nbformat": 4,
 "nbformat_minor": 5
}
